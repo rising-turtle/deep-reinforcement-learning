{
 "cells": [
  {
   "cell_type": "markdown",
   "metadata": {},
   "source": [
    "# Continuous Control\n",
    "\n",
    "---\n",
    "\n",
    "You are welcome to use this coding environment to train your agent for the project.  Follow the instructions below to get started!\n",
    "\n",
    "### 1. Start the Environment\n",
    "\n",
    "Run the next code cell to install a few packages.  This line will take a few minutes to run!"
   ]
  },
  {
   "cell_type": "code",
   "execution_count": 1,
   "metadata": {},
   "outputs": [
    {
     "name": "stdout",
     "output_type": "stream",
     "text": [
      "\u001b[31mtensorflow 1.7.1 has requirement numpy>=1.13.3, but you'll have numpy 1.12.1 which is incompatible.\u001b[0m\r\n",
      "\u001b[31mipython 6.5.0 has requirement prompt-toolkit<2.0.0,>=1.0.15, but you'll have prompt-toolkit 3.0.18 which is incompatible.\u001b[0m\r\n"
     ]
    }
   ],
   "source": [
    "!pip -q install ./python"
   ]
  },
  {
   "cell_type": "markdown",
   "metadata": {},
   "source": [
    "The environments corresponding to both versions of the environment are already saved in the Workspace and can be accessed at the file paths provided below.  \n",
    "\n",
    "Please select one of the two options below for loading the environment."
   ]
  },
  {
   "cell_type": "code",
   "execution_count": 2,
   "metadata": {},
   "outputs": [
    {
     "name": "stderr",
     "output_type": "stream",
     "text": [
      "INFO:unityagents:\n",
      "'Academy' started successfully!\n",
      "Unity Academy name: Academy\n",
      "        Number of Brains: 1\n",
      "        Number of External Brains : 1\n",
      "        Lesson number : 0\n",
      "        Reset Parameters :\n",
      "\t\tgoal_speed -> 1.0\n",
      "\t\tgoal_size -> 5.0\n",
      "Unity brain name: ReacherBrain\n",
      "        Number of Visual Observations (per agent): 0\n",
      "        Vector Observation space type: continuous\n",
      "        Vector Observation space size (per agent): 33\n",
      "        Number of stacked Vector Observation: 1\n",
      "        Vector Action space type: continuous\n",
      "        Vector Action space size (per agent): 4\n",
      "        Vector Action descriptions: , , , \n"
     ]
    }
   ],
   "source": [
    "from unityagents import UnityEnvironment\n",
    "import numpy as np\n",
    "\n",
    "# select this option to load version 1 (with a single agent) of the environment\n",
    "# env = UnityEnvironment(file_name='/data/Reacher_One_Linux_NoVis/Reacher_One_Linux_NoVis.x86_64')\n",
    "\n",
    "# select this option to load version 2 (with 20 agents) of the environment\n",
    "env = UnityEnvironment(file_name='/data/Reacher_Linux_NoVis/Reacher.x86_64')"
   ]
  },
  {
   "cell_type": "markdown",
   "metadata": {},
   "source": [
    "Environments contain **_brains_** which are responsible for deciding the actions of their associated agents. Here we check for the first brain available, and set it as the default brain we will be controlling from Python."
   ]
  },
  {
   "cell_type": "code",
   "execution_count": 3,
   "metadata": {},
   "outputs": [],
   "source": [
    "# get the default brain\n",
    "brain_name = env.brain_names[0]\n",
    "brain = env.brains[brain_name]"
   ]
  },
  {
   "cell_type": "markdown",
   "metadata": {},
   "source": [
    "### 2. Examine the State and Action Spaces\n",
    "\n",
    "Run the code cell below to print some information about the environment."
   ]
  },
  {
   "cell_type": "code",
   "execution_count": 4,
   "metadata": {},
   "outputs": [
    {
     "name": "stdout",
     "output_type": "stream",
     "text": [
      "Number of agents: 20\n",
      "Size of each action: 4\n",
      "There are 20 agents. Each observes a state with length: 33\n",
      "The state for the first agent looks like: [  0.00000000e+00  -4.00000000e+00   0.00000000e+00   1.00000000e+00\n",
      "  -0.00000000e+00  -0.00000000e+00  -4.37113883e-08   0.00000000e+00\n",
      "   0.00000000e+00   0.00000000e+00   0.00000000e+00   0.00000000e+00\n",
      "   0.00000000e+00   0.00000000e+00  -1.00000000e+01   0.00000000e+00\n",
      "   1.00000000e+00  -0.00000000e+00  -0.00000000e+00  -4.37113883e-08\n",
      "   0.00000000e+00   0.00000000e+00   0.00000000e+00   0.00000000e+00\n",
      "   0.00000000e+00   0.00000000e+00   5.75471878e+00  -1.00000000e+00\n",
      "   5.55726624e+00   0.00000000e+00   1.00000000e+00   0.00000000e+00\n",
      "  -1.68164849e-01]\n"
     ]
    }
   ],
   "source": [
    "# reset the environment\n",
    "env_info = env.reset(train_mode=True)[brain_name]\n",
    "\n",
    "# number of agents\n",
    "num_agents = len(env_info.agents)\n",
    "print('Number of agents:', num_agents)\n",
    "\n",
    "# size of each action\n",
    "action_size = brain.vector_action_space_size\n",
    "print('Size of each action:', action_size)\n",
    "\n",
    "# examine the state space \n",
    "states = env_info.vector_observations\n",
    "state_size = states.shape[1]\n",
    "print('There are {} agents. Each observes a state with length: {}'.format(states.shape[0], state_size))\n",
    "print('The state for the first agent looks like:', states[0])"
   ]
  },
  {
   "cell_type": "markdown",
   "metadata": {},
   "source": [
    "### 3. Take Random Actions in the Environment\n",
    "\n",
    "In the next code cell, you will learn how to use the Python API to control the agent and receive feedback from the environment.\n",
    "\n",
    "Note that **in this coding environment, you will not be able to watch the agents while they are training**, and you should set `train_mode=True` to restart the environment."
   ]
  },
  {
   "cell_type": "code",
   "execution_count": 5,
   "metadata": {},
   "outputs": [
    {
     "name": "stdout",
     "output_type": "stream",
     "text": [
      "Total score (averaged over agents) this episode: 0.1769999960437417\n"
     ]
    }
   ],
   "source": [
    "env_info = env.reset(train_mode=True)[brain_name]      # reset the environment    \n",
    "states = env_info.vector_observations                  # get the current state (for each agent)\n",
    "scores = np.zeros(num_agents)                          # initialize the score (for each agent)\n",
    "while True:\n",
    "    actions = np.random.randn(num_agents, action_size) # select an action (for each agent)\n",
    "    actions = np.clip(actions, -1, 1)                  # all actions between -1 and 1\n",
    "    env_info = env.step(actions)[brain_name]           # send all actions to tne environment\n",
    "    next_states = env_info.vector_observations         # get next state (for each agent)\n",
    "    rewards = env_info.rewards                         # get reward (for each agent)\n",
    "    dones = env_info.local_done                        # see if episode finished\n",
    "    scores += env_info.rewards                         # update the score (for each agent)\n",
    "    states = next_states                               # roll over states to next time step\n",
    "    if np.any(dones):                                  # exit loop if episode finished\n",
    "        break\n",
    "print('Total score (averaged over agents) this episode: {}'.format(np.mean(scores)))"
   ]
  },
  {
   "cell_type": "markdown",
   "metadata": {},
   "source": [
    "When finished, you can close the environment."
   ]
  },
  {
   "cell_type": "code",
   "execution_count": 6,
   "metadata": {},
   "outputs": [],
   "source": [
    "#env.close()"
   ]
  },
  {
   "cell_type": "markdown",
   "metadata": {},
   "source": [
    "### 4. It's Your Turn!\n",
    "\n",
    "Now it's your turn to train your own agent to solve the environment!  A few **important notes**:\n",
    "- When training the environment, set `train_mode=True`, so that the line for resetting the environment looks like the following:\n",
    "```python\n",
    "env_info = env.reset(train_mode=True)[brain_name]\n",
    "```\n",
    "- To structure your work, you're welcome to work directly in this Jupyter notebook, or you might like to start over with a new file!  You can see the list of files in the workspace by clicking on **_Jupyter_** in the top left corner of the notebook.\n",
    "- In this coding environment, you will not be able to watch the agents while they are training.  However, **_after training the agents_**, you can download the saved model weights to watch the agents on your own machine! "
   ]
  },
  {
   "cell_type": "code",
   "execution_count": 5,
   "metadata": {},
   "outputs": [],
   "source": [
    "import random \n",
    "import torch \n",
    "\n",
    "import matplotlib.pyplot as plt\n",
    "%matplotlib inline\n",
    "\n",
    "from ddpg_agent import Agent \n",
    "from unityagents import UnityEnvironment \n",
    "from collections import deque \n"
   ]
  },
  {
   "cell_type": "code",
   "execution_count": null,
   "metadata": {},
   "outputs": [],
   "source": []
  },
  {
   "cell_type": "code",
   "execution_count": 6,
   "metadata": {},
   "outputs": [],
   "source": [
    "# a helper to plot a training scores\n",
    "def plot_scores( n_episode ,scores, \n",
    "                color = 'b', \n",
    "                title = '', \n",
    "                linestyle = '-',\n",
    "                xlabel='Episode',\n",
    "                ylabel='Score',\n",
    "                fig = None, \n",
    "                axes = None, \n",
    "                showRequirement = True ) :\n",
    "    # iteration indices (recall, smoothed start at step 100)\n",
    "    x = range(1, n_episode+1) #scores[0]\n",
    "    y = scores\n",
    "    \n",
    "    if fig is None or axes is None :\n",
    "        fig, axes = plt.subplots()\n",
    "    \n",
    "    axes.grid( True )\n",
    "    axes.plot( x, y, color = color, linestyle = linestyle )\n",
    "    axes.set_title( title )\n",
    "    \n",
    "    # if scores plot, then plot the requirement\n",
    "    if showRequirement :\n",
    "        axes.axhline( 30., linestyle = '--' )\n",
    "    \n",
    "    axes.set_xlabel( xlabel )\n",
    "    axes.set_ylabel( ylabel )\n",
    "    \n",
    "    return fig, axes"
   ]
  },
  {
   "cell_type": "code",
   "execution_count": 12,
   "metadata": {},
   "outputs": [],
   "source": [
    "import requests\n",
    "import time\n",
    "from ddpg_agent import Agent \n",
    "\n",
    "# DDPG function \n",
    "def ddpg(agent, n_episodes=1000, max_t=300, print_every=1, required_episode=50):\n",
    "    all_scores = []\n",
    "    scores_local = deque(maxlen=print_every)\n",
    "    mean_scores = []\n",
    "    local_mean_scores = [] \n",
    "    \n",
    "    old_time = time.time()\n",
    "    response = requests.request(\"GET\", \n",
    "                            \"http://metadata.google.internal/computeMetadata/v1/instance/attributes/keep_alive_token\", \n",
    "                            headers={\"Metadata-Flavor\":\"Google\"})\n",
    "    solved_at = -1 \n",
    "    for i_episode in range(1, n_episodes+1):\n",
    "        \n",
    "        if time.time() - old_time > 60:\n",
    "            old_time = time.time()\n",
    "            requests.request(\"POST\", \n",
    "                             \"https://nebula.udacity.com/api/v1/remote/keep-alive\", \n",
    "                             headers={'Authorization': \"STAR \" + response.text})\n",
    "            \n",
    "        env_info = env.reset(train_mode=True)[brain_name] # reset environment \n",
    "        states = env_info.vector_observations # current state for the observations \n",
    "        # scores = np.zeros(num_ag)\n",
    "        agent.reset()\n",
    "        scores = np.zeros(num_agents)  \n",
    "        start_time = time.time()\n",
    "        for t in range(max_t):\n",
    "            actions = agent.act(states)\n",
    "            env_info = env.step(actions)[brain_name]\n",
    "            next_states = env_info.vector_observations\n",
    "            rewards = env_info.rewards\n",
    "            dones = env_info.local_done\n",
    "            \n",
    "            for state, action, reward, next_state, done in zip(states, actions, rewards, next_states, dones):\n",
    "                agent.step(state, action, reward, next_state, done)\n",
    "            states = next_states\n",
    "            scores += rewards \n",
    "            if np.any(dones):\n",
    "                break\n",
    "            \n",
    "            #agent.step(state, action, reward, next_state, done)\n",
    "            #state = next_state\n",
    "            #score += reward\n",
    "            #if done:\n",
    "            #    break \n",
    "        time_cost = time.time() - start_time\n",
    "        mean_score_episode = np.mean(scores)\n",
    "        all_scores.append(mean_score_episode)\n",
    "        scores_local.append(mean_score_episode)\n",
    "        mean_scores.append(np.mean(all_scores))\n",
    "        local_mean_scores.append(np.mean(scores_local))\n",
    "        if i_episode % print_every == 0:   \n",
    "            print('\\n\\rEpisode {} cost {} S \\tAverage Score: {:.2f}'.format(i_episode, time_cost, local_mean_scores[-1]), end=\"\")\n",
    "            torch.save(agent.actor_local.state_dict(), 'checkpoint_actor.pth')\n",
    "            torch.save(agent.critic_local.state_dict(), 'checkpoint_critic.pth')\n",
    "            if local_mean_scores[-1] > 30:\n",
    "                if solved_at < 0:\n",
    "                    print('\\n\\rEnvironment solved in {} episodes with Average Score: {:.2f}'.format(i_episode, local_mean_scores[-1]))\n",
    "                    solved_at = i_episode\n",
    "        if i_episode >= required_episode:\n",
    "            if solved_at > 0:\n",
    "                print('\\n\\rFinish {} episodes the problem has been solved at {} episode '.format(required_episode ,solved_at))\n",
    "            else:\n",
    "                print('\\n\\rFinish {} episodes the problem has not been solved !'.format(required_episode))\n",
    "            break\n",
    "    return mean_scores, local_mean_scores\n",
    "\n"
   ]
  },
  {
   "cell_type": "code",
   "execution_count": 13,
   "metadata": {},
   "outputs": [
    {
     "name": "stdout",
     "output_type": "stream",
     "text": [
      "\n",
      "Episode 1 cost 108.18260383605957 S \tAverage Score: 0.90\n",
      "Episode 2 cost 109.97654271125793 S \tAverage Score: 1.20\n",
      "Episode 3 cost 110.9300103187561 S \tAverage Score: 2.58\n",
      "Episode 4 cost 112.33146524429321 S \tAverage Score: 3.86\n",
      "Episode 5 cost 112.87451124191284 S \tAverage Score: 6.16\n",
      "Episode 6 cost 114.60846209526062 S \tAverage Score: 8.63\n",
      "Episode 7 cost 113.76191997528076 S \tAverage Score: 10.84\n",
      "Episode 8 cost 114.48926138877869 S \tAverage Score: 18.20\n",
      "Episode 9 cost 113.9028115272522 S \tAverage Score: 22.69\n",
      "Episode 10 cost 113.66136145591736 S \tAverage Score: 21.14\n",
      "Episode 11 cost 114.03829550743103 S \tAverage Score: 21.88\n",
      "Episode 12 cost 113.68088984489441 S \tAverage Score: 27.25\n",
      "Episode 13 cost 114.29302096366882 S \tAverage Score: 26.32\n",
      "Episode 14 cost 114.67186903953552 S \tAverage Score: 27.73\n",
      "Episode 15 cost 114.33778786659241 S \tAverage Score: 28.44\n",
      "Episode 16 cost 113.48547339439392 S \tAverage Score: 30.77\n",
      "Environment solved in 16 episodes with Average Score: 30.77\n",
      "\n",
      "Episode 17 cost 114.1008129119873 S \tAverage Score: 35.26\n",
      "Episode 18 cost 114.12926006317139 S \tAverage Score: 36.59\n",
      "Episode 19 cost 114.45876121520996 S \tAverage Score: 37.49\n",
      "Episode 20 cost 114.65705609321594 S \tAverage Score: 37.00\n",
      "Episode 21 cost 114.42002773284912 S \tAverage Score: 35.61\n",
      "Episode 22 cost 113.73809504508972 S \tAverage Score: 35.01\n",
      "Episode 23 cost 113.79911088943481 S \tAverage Score: 35.53\n",
      "Episode 24 cost 113.8316261768341 S \tAverage Score: 36.21\n",
      "Episode 25 cost 113.91852879524231 S \tAverage Score: 34.03\n",
      "Episode 26 cost 114.09775996208191 S \tAverage Score: 35.17\n",
      "Episode 27 cost 114.16635751724243 S \tAverage Score: 36.36\n",
      "Episode 28 cost 114.40264916419983 S \tAverage Score: 37.64\n",
      "Episode 29 cost 113.72089409828186 S \tAverage Score: 37.02\n",
      "Episode 30 cost 115.35657787322998 S \tAverage Score: 36.82\n",
      "Episode 31 cost 114.78685665130615 S \tAverage Score: 37.09\n",
      "Episode 32 cost 115.22338962554932 S \tAverage Score: 34.83\n",
      "Episode 33 cost 114.26321387290955 S \tAverage Score: 35.05\n",
      "Episode 34 cost 113.4256980419159 S \tAverage Score: 37.57\n",
      "Episode 35 cost 113.91547679901123 S \tAverage Score: 36.70\n",
      "Episode 36 cost 114.14029598236084 S \tAverage Score: 35.92\n",
      "Episode 37 cost 114.23341202735901 S \tAverage Score: 36.79\n",
      "Episode 38 cost 114.00311517715454 S \tAverage Score: 36.32\n",
      "Episode 39 cost 113.71593618392944 S \tAverage Score: 37.27\n",
      "Episode 40 cost 113.68704748153687 S \tAverage Score: 35.91\n",
      "Episode 41 cost 114.16860127449036 S \tAverage Score: 36.22\n",
      "Episode 42 cost 114.01098680496216 S \tAverage Score: 36.05\n",
      "Episode 43 cost 113.86426329612732 S \tAverage Score: 37.95\n",
      "Episode 44 cost 114.02845740318298 S \tAverage Score: 33.59\n",
      "Episode 45 cost 114.77138352394104 S \tAverage Score: 36.54\n",
      "Episode 46 cost 114.50888109207153 S \tAverage Score: 34.87\n",
      "Episode 47 cost 113.59612822532654 S \tAverage Score: 35.13\n",
      "Episode 48 cost 113.42694449424744 S \tAverage Score: 32.87\n",
      "Episode 49 cost 114.5662670135498 S \tAverage Score: 36.49\n",
      "Episode 50 cost 114.17136740684509 S \tAverage Score: 35.98\n",
      "Finish 50 episodes the problem has been solved at 16 episode \n"
     ]
    }
   ],
   "source": [
    "\n",
    "agent = Agent(state_size = state_size, action_size=action_size, random_seed = 3) \n",
    "all_mean_scores, local_mean_scores = ddpg(agent, n_episodes=120, max_t=1000)"
   ]
  },
  {
   "cell_type": "code",
   "execution_count": 14,
   "metadata": {},
   "outputs": [
    {
     "data": {
      "text/plain": [
       "(<matplotlib.figure.Figure at 0x7fe10db7f898>,\n",
       " <matplotlib.axes._subplots.AxesSubplot at 0x7fe0c72aada0>)"
      ]
     },
     "execution_count": 14,
     "metadata": {},
     "output_type": "execute_result"
    },
    {
     "data": {
      "image/png": "[encoded data removed]",
      "text/plain": [
       "<matplotlib.figure.Figure at 0x7fe10db7f898>"
      ]
     },
     "metadata": {
      "needs_background": "light"
     },
     "output_type": "display_data"
    }
   ],
   "source": [
    "fig, axes = plot_scores(n_episode=len(local_mean_scores), scores=local_mean_scores, color='b')\n",
    "plot_scores(n_episode=len(all_mean_scores), scores=all_mean_scores, color='r', fig=fig, axes=axes)"
   ]
  },
  {
   "cell_type": "code",
   "execution_count": null,
   "metadata": {},
   "outputs": [],
   "source": []
  },
  {
   "cell_type": "code",
   "execution_count": null,
   "metadata": {},
   "outputs": [],
   "source": []
  },
  {
   "cell_type": "code",
   "execution_count": null,
   "metadata": {},
   "outputs": [],
   "source": [
    "env.close()"
   ]
  }
 ],
 "metadata": {
  "kernelspec": {
   "display_name": "Python 3",
   "language": "python",
   "name": "python3"
  },
  "language_info": {
   "codemirror_mode": {
    "name": "ipython",
    "version": 3
   },
   "file_extension": ".py",
   "mimetype": "text/x-python",
   "name": "python",
   "nbconvert_exporter": "python",
   "pygments_lexer": "ipython3",
   "version": "3.6.3"
  }
 },
 "nbformat": 4,
 "nbformat_minor": 2
}
