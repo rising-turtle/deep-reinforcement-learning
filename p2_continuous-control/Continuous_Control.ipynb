{
 "cells": [
  {
   "cell_type": "markdown",
   "metadata": {},
   "source": [
    "# Continuous Control\n",
    "\n",
    "---\n",
    "\n",
    "You are welcome to use this coding environment to train your agent for the project.  Follow the instructions below to get started!\n",
    "\n",
    "### 1. Start the Environment\n",
    "\n",
    "Run the next code cell to install a few packages.  This line will take a few minutes to run!"
   ]
  },
  {
   "cell_type": "code",
   "execution_count": 1,
   "metadata": {},
   "outputs": [
    {
     "name": "stdout",
     "output_type": "stream",
     "text": [
      "\u001b[31mtensorflow 1.7.1 has requirement numpy>=1.13.3, but you'll have numpy 1.12.1 which is incompatible.\u001b[0m\r\n",
      "\u001b[31mipython 6.5.0 has requirement prompt-toolkit<2.0.0,>=1.0.15, but you'll have prompt-toolkit 3.0.18 which is incompatible.\u001b[0m\r\n"
     ]
    }
   ],
   "source": [
    "!pip -q install ./python"
   ]
  },
  {
   "cell_type": "markdown",
   "metadata": {},
   "source": [
    "The environments corresponding to both versions of the environment are already saved in the Workspace and can be accessed at the file paths provided below.  \n",
    "\n",
    "Please select one of the two options below for loading the environment."
   ]
  },
  {
   "cell_type": "code",
   "execution_count": 2,
   "metadata": {},
   "outputs": [
    {
     "name": "stderr",
     "output_type": "stream",
     "text": [
      "INFO:unityagents:\n",
      "'Academy' started successfully!\n",
      "Unity Academy name: Academy\n",
      "        Number of Brains: 1\n",
      "        Number of External Brains : 1\n",
      "        Lesson number : 0\n",
      "        Reset Parameters :\n",
      "\t\tgoal_speed -> 1.0\n",
      "\t\tgoal_size -> 5.0\n",
      "Unity brain name: ReacherBrain\n",
      "        Number of Visual Observations (per agent): 0\n",
      "        Vector Observation space type: continuous\n",
      "        Vector Observation space size (per agent): 33\n",
      "        Number of stacked Vector Observation: 1\n",
      "        Vector Action space type: continuous\n",
      "        Vector Action space size (per agent): 4\n",
      "        Vector Action descriptions: , , , \n"
     ]
    }
   ],
   "source": [
    "from unityagents import UnityEnvironment\n",
    "import numpy as np\n",
    "\n",
    "# select this option to load version 1 (with a single agent) of the environment\n",
    "# env = UnityEnvironment(file_name='/data/Reacher_One_Linux_NoVis/Reacher_One_Linux_NoVis.x86_64')\n",
    "\n",
    "# select this option to load version 2 (with 20 agents) of the environment\n",
    "env = UnityEnvironment(file_name='/data/Reacher_Linux_NoVis/Reacher.x86_64')"
   ]
  },
  {
   "cell_type": "markdown",
   "metadata": {},
   "source": [
    "Environments contain **_brains_** which are responsible for deciding the actions of their associated agents. Here we check for the first brain available, and set it as the default brain we will be controlling from Python."
   ]
  },
  {
   "cell_type": "code",
   "execution_count": 3,
   "metadata": {},
   "outputs": [],
   "source": [
    "# get the default brain\n",
    "brain_name = env.brain_names[0]\n",
    "brain = env.brains[brain_name]"
   ]
  },
  {
   "cell_type": "markdown",
   "metadata": {},
   "source": [
    "### 2. Examine the State and Action Spaces\n",
    "\n",
    "Run the code cell below to print some information about the environment."
   ]
  },
  {
   "cell_type": "code",
   "execution_count": 4,
   "metadata": {},
   "outputs": [
    {
     "name": "stdout",
     "output_type": "stream",
     "text": [
      "Number of agents: 20\n",
      "Size of each action: 4\n",
      "There are 20 agents. Each observes a state with length: 33\n",
      "The state for the first agent looks like: [  0.00000000e+00  -4.00000000e+00   0.00000000e+00   1.00000000e+00\n",
      "  -0.00000000e+00  -0.00000000e+00  -4.37113883e-08   0.00000000e+00\n",
      "   0.00000000e+00   0.00000000e+00   0.00000000e+00   0.00000000e+00\n",
      "   0.00000000e+00   0.00000000e+00  -1.00000000e+01   0.00000000e+00\n",
      "   1.00000000e+00  -0.00000000e+00  -0.00000000e+00  -4.37113883e-08\n",
      "   0.00000000e+00   0.00000000e+00   0.00000000e+00   0.00000000e+00\n",
      "   0.00000000e+00   0.00000000e+00   5.75471878e+00  -1.00000000e+00\n",
      "   5.55726624e+00   0.00000000e+00   1.00000000e+00   0.00000000e+00\n",
      "  -1.68164849e-01]\n"
     ]
    }
   ],
   "source": [
    "# reset the environment\n",
    "env_info = env.reset(train_mode=True)[brain_name]\n",
    "\n",
    "# number of agents\n",
    "num_agents = len(env_info.agents)\n",
    "print('Number of agents:', num_agents)\n",
    "\n",
    "# size of each action\n",
    "action_size = brain.vector_action_space_size\n",
    "print('Size of each action:', action_size)\n",
    "\n",
    "# examine the state space \n",
    "states = env_info.vector_observations\n",
    "state_size = states.shape[1]\n",
    "print('There are {} agents. Each observes a state with length: {}'.format(states.shape[0], state_size))\n",
    "print('The state for the first agent looks like:', states[0])"
   ]
  },
  {
   "cell_type": "markdown",
   "metadata": {},
   "source": [
    "### 3. Take Random Actions in the Environment\n",
    "\n",
    "In the next code cell, you will learn how to use the Python API to control the agent and receive feedback from the environment.\n",
    "\n",
    "Note that **in this coding environment, you will not be able to watch the agents while they are training**, and you should set `train_mode=True` to restart the environment."
   ]
  },
  {
   "cell_type": "code",
   "execution_count": 6,
   "metadata": {},
   "outputs": [
    {
     "name": "stdout",
     "output_type": "stream",
     "text": [
      "Total score (averaged over agents) this episode: 0.13849999690428377\n"
     ]
    }
   ],
   "source": [
    "env_info = env.reset(train_mode=True)[brain_name]      # reset the environment    \n",
    "states = env_info.vector_observations                  # get the current state (for each agent)\n",
    "scores = np.zeros(num_agents)                          # initialize the score (for each agent)\n",
    "while True:\n",
    "    actions = np.random.randn(num_agents, action_size) # select an action (for each agent)\n",
    "    actions = np.clip(actions, -1, 1)                  # all actions between -1 and 1\n",
    "    env_info = env.step(actions)[brain_name]           # send all actions to tne environment\n",
    "    next_states = env_info.vector_observations         # get next state (for each agent)\n",
    "    rewards = env_info.rewards                         # get reward (for each agent)\n",
    "    dones = env_info.local_done                        # see if episode finished\n",
    "    scores += env_info.rewards                         # update the score (for each agent)\n",
    "    states = next_states                               # roll over states to next time step\n",
    "    if np.any(dones):                                  # exit loop if episode finished\n",
    "        break\n",
    "print('Total score (averaged over agents) this episode: {}'.format(np.mean(scores)))"
   ]
  },
  {
   "cell_type": "markdown",
   "metadata": {},
   "source": [
    "When finished, you can close the environment."
   ]
  },
  {
   "cell_type": "code",
   "execution_count": 6,
   "metadata": {},
   "outputs": [],
   "source": [
    "#env.close()"
   ]
  },
  {
   "cell_type": "markdown",
   "metadata": {},
   "source": [
    "### 4. It's Your Turn!\n",
    "\n",
    "Now it's your turn to train your own agent to solve the environment!  A few **important notes**:\n",
    "- When training the environment, set `train_mode=True`, so that the line for resetting the environment looks like the following:\n",
    "```python\n",
    "env_info = env.reset(train_mode=True)[brain_name]\n",
    "```\n",
    "- To structure your work, you're welcome to work directly in this Jupyter notebook, or you might like to start over with a new file!  You can see the list of files in the workspace by clicking on **_Jupyter_** in the top left corner of the notebook.\n",
    "- In this coding environment, you will not be able to watch the agents while they are training.  However, **_after training the agents_**, you can download the saved model weights to watch the agents on your own machine! "
   ]
  },
  {
   "cell_type": "code",
   "execution_count": 7,
   "metadata": {},
   "outputs": [],
   "source": [
    "import random \n",
    "import torch \n",
    "\n",
    "import matplotlib.pyplot as plt\n",
    "%matplotlib inline\n",
    "\n",
    "from ddpg_agent import Agent \n",
    "from unityagents import UnityEnvironment \n",
    "from collections import deque \n"
   ]
  },
  {
   "cell_type": "code",
   "execution_count": null,
   "metadata": {},
   "outputs": [],
   "source": []
  },
  {
   "cell_type": "code",
   "execution_count": 8,
   "metadata": {},
   "outputs": [],
   "source": [
    "# a helper to plot a training scores\n",
    "def plot_scores( n_episode ,scores, \n",
    "                color = 'b', \n",
    "                title = '', \n",
    "                linestyle = '-',\n",
    "                xlabel='Episode',\n",
    "                ylabel='Score',\n",
    "                fig = None, \n",
    "                axes = None, \n",
    "                showRequirement = True ) :\n",
    "    # iteration indices (recall, smoothed start at step 100)\n",
    "    x = range(1, n_episode+1) #scores[0]\n",
    "    y = scores\n",
    "    \n",
    "    if fig is None or axes is None :\n",
    "        fig, axes = plt.subplots()\n",
    "    \n",
    "    axes.grid( True )\n",
    "    axes.plot( x, y, color = color, linestyle = linestyle )\n",
    "    axes.set_title( title )\n",
    "    \n",
    "    # if scores plot, then plot the requirement\n",
    "    if showRequirement :\n",
    "        axes.axhline( 30., linestyle = '--' )\n",
    "    \n",
    "    axes.set_xlabel( xlabel )\n",
    "    axes.set_ylabel( ylabel )\n",
    "    \n",
    "    return fig, axes"
   ]
  },
  {
   "cell_type": "code",
   "execution_count": 9,
   "metadata": {},
   "outputs": [],
   "source": [
    "import requests\n",
    "import time\n",
    "from ddpg_agent import Agent \n",
    "\n",
    "# DDPG function \n",
    "def ddpg(agent, n_episodes=1000, max_t=300, print_every=1, required_episode=110):\n",
    "    all_scores = []\n",
    "    scores_local = deque(maxlen=100)\n",
    "    mean_scores = []\n",
    "    local_mean_scores = [] \n",
    "    \n",
    "    old_time = time.time()\n",
    "    response = requests.request(\"GET\", \n",
    "                            \"http://metadata.google.internal/computeMetadata/v1/instance/attributes/keep_alive_token\", \n",
    "                            headers={\"Metadata-Flavor\":\"Google\"})\n",
    "    solved_at = -1 \n",
    "    for i_episode in range(1, n_episodes+1):\n",
    "        \n",
    "        if time.time() - old_time > 60:\n",
    "            old_time = time.time()\n",
    "            requests.request(\"POST\", \n",
    "                             \"https://nebula.udacity.com/api/v1/remote/keep-alive\", \n",
    "                             headers={'Authorization': \"STAR \" + response.text})\n",
    "            \n",
    "        env_info = env.reset(train_mode=True)[brain_name] # reset environment \n",
    "        states = env_info.vector_observations # current state for the observations \n",
    "        # scores = np.zeros(num_ag)\n",
    "        agent.reset()\n",
    "        scores = np.zeros(num_agents)  \n",
    "        start_time = time.time()\n",
    "        for t in range(max_t):\n",
    "            actions = agent.act(states)\n",
    "            env_info = env.step(actions)[brain_name]\n",
    "            next_states = env_info.vector_observations\n",
    "            rewards = env_info.rewards\n",
    "            dones = env_info.local_done\n",
    "            \n",
    "            for state, action, reward, next_state, done in zip(states, actions, rewards, next_states, dones):\n",
    "                agent.step(state, action, reward, next_state, done)\n",
    "            states = next_states\n",
    "            scores += rewards \n",
    "            if np.any(dones):\n",
    "                break\n",
    "            \n",
    "            #agent.step(state, action, reward, next_state, done)\n",
    "            #state = next_state\n",
    "            #score += reward\n",
    "            #if done:\n",
    "            #    break \n",
    "        time_cost = time.time() - start_time\n",
    "        mean_score_episode = np.mean(scores)\n",
    "        all_scores.append(mean_score_episode)\n",
    "        scores_local.append(mean_score_episode)\n",
    "        mean_scores.append(np.mean(all_scores))\n",
    "        local_mean_scores.append(np.mean(scores_local))\n",
    "        if i_episode % print_every == 0:   \n",
    "            print('\\n\\rEpisode {} \\tcost {}(S) \\tCurrent Score: {:.2f} \\tAverage Score: {:.2f}'.format(i_episode, int(time_cost), mean_score_episode, local_mean_scores[-1]), end=\"\")\n",
    "            torch.save(agent.actor_local.state_dict(), 'checkpoint_actor.pth')\n",
    "            torch.save(agent.critic_local.state_dict(), 'checkpoint_critic.pth')\n",
    "            if local_mean_scores[-1] > 30:\n",
    "                if solved_at < 0:\n",
    "                    print('\\n\\rEnvironment solved in {} episodes with Average Score: {:.2f}'.format(i_episode, local_mean_scores[-1]))\n",
    "                    solved_at = i_episode\n",
    "        if i_episode >= required_episode:\n",
    "            if solved_at > 0:\n",
    "                print('\\n\\rFinish {} episodes the problem has been solved at {} episode '.format(required_episode ,solved_at))\n",
    "            else:\n",
    "                print('\\n\\rFinish {} episodes the problem has not been solved !'.format(required_episode))\n",
    "            break\n",
    "    return all_scores, local_mean_scores\n",
    "\n"
   ]
  },
  {
   "cell_type": "code",
   "execution_count": 10,
   "metadata": {},
   "outputs": [
    {
     "name": "stdout",
     "output_type": "stream",
     "text": [
      "\n",
      "Episode 1 \tcost 113(S) \tCurrent Score: 0.59 \tAverage Score: 0.59\n",
      "Episode 2 \tcost 115(S) \tCurrent Score: 1.20 \tAverage Score: 0.90\n",
      "Episode 3 \tcost 116(S) \tCurrent Score: 3.07 \tAverage Score: 1.62\n",
      "Episode 4 \tcost 116(S) \tCurrent Score: 2.85 \tAverage Score: 1.93\n",
      "Episode 5 \tcost 117(S) \tCurrent Score: 6.63 \tAverage Score: 2.87\n",
      "Episode 6 \tcost 117(S) \tCurrent Score: 7.53 \tAverage Score: 3.65\n",
      "Episode 7 \tcost 118(S) \tCurrent Score: 9.58 \tAverage Score: 4.49\n",
      "Episode 8 \tcost 118(S) \tCurrent Score: 11.64 \tAverage Score: 5.39\n",
      "Episode 9 \tcost 118(S) \tCurrent Score: 13.05 \tAverage Score: 6.24\n",
      "Episode 10 \tcost 116(S) \tCurrent Score: 16.84 \tAverage Score: 7.30\n",
      "Episode 11 \tcost 117(S) \tCurrent Score: 21.54 \tAverage Score: 8.59\n",
      "Episode 12 \tcost 118(S) \tCurrent Score: 22.30 \tAverage Score: 9.74\n",
      "Episode 13 \tcost 118(S) \tCurrent Score: 26.04 \tAverage Score: 10.99\n",
      "Episode 14 \tcost 117(S) \tCurrent Score: 27.86 \tAverage Score: 12.19\n",
      "Episode 15 \tcost 117(S) \tCurrent Score: 31.56 \tAverage Score: 13.49\n",
      "Episode 16 \tcost 116(S) \tCurrent Score: 33.59 \tAverage Score: 14.74\n",
      "Episode 17 \tcost 116(S) \tCurrent Score: 34.98 \tAverage Score: 15.93\n",
      "Episode 18 \tcost 116(S) \tCurrent Score: 35.20 \tAverage Score: 17.00\n",
      "Episode 19 \tcost 117(S) \tCurrent Score: 35.25 \tAverage Score: 17.96\n",
      "Episode 20 \tcost 116(S) \tCurrent Score: 36.81 \tAverage Score: 18.91\n",
      "Episode 21 \tcost 116(S) \tCurrent Score: 34.75 \tAverage Score: 19.66\n",
      "Episode 22 \tcost 116(S) \tCurrent Score: 33.01 \tAverage Score: 20.27\n",
      "Episode 23 \tcost 114(S) \tCurrent Score: 31.28 \tAverage Score: 20.75\n",
      "Episode 24 \tcost 114(S) \tCurrent Score: 34.20 \tAverage Score: 21.31\n",
      "Episode 25 \tcost 114(S) \tCurrent Score: 35.29 \tAverage Score: 21.87\n",
      "Episode 26 \tcost 115(S) \tCurrent Score: 36.80 \tAverage Score: 22.44\n",
      "Episode 27 \tcost 116(S) \tCurrent Score: 37.48 \tAverage Score: 23.00\n",
      "Episode 28 \tcost 115(S) \tCurrent Score: 33.18 \tAverage Score: 23.36\n",
      "Episode 29 \tcost 114(S) \tCurrent Score: 33.34 \tAverage Score: 23.71\n",
      "Episode 30 \tcost 115(S) \tCurrent Score: 32.56 \tAverage Score: 24.00\n",
      "Episode 31 \tcost 114(S) \tCurrent Score: 29.88 \tAverage Score: 24.19\n",
      "Episode 32 \tcost 114(S) \tCurrent Score: 33.71 \tAverage Score: 24.49\n",
      "Episode 33 \tcost 115(S) \tCurrent Score: 36.43 \tAverage Score: 24.85\n",
      "Episode 34 \tcost 114(S) \tCurrent Score: 35.29 \tAverage Score: 25.16\n",
      "Episode 35 \tcost 114(S) \tCurrent Score: 34.30 \tAverage Score: 25.42\n",
      "Episode 36 \tcost 114(S) \tCurrent Score: 34.31 \tAverage Score: 25.67\n",
      "Episode 37 \tcost 114(S) \tCurrent Score: 35.10 \tAverage Score: 25.92\n",
      "Episode 38 \tcost 114(S) \tCurrent Score: 34.48 \tAverage Score: 26.15\n",
      "Episode 39 \tcost 114(S) \tCurrent Score: 33.60 \tAverage Score: 26.34\n",
      "Episode 40 \tcost 113(S) \tCurrent Score: 34.22 \tAverage Score: 26.53\n",
      "Episode 41 \tcost 114(S) \tCurrent Score: 37.20 \tAverage Score: 26.79\n",
      "Episode 42 \tcost 115(S) \tCurrent Score: 36.11 \tAverage Score: 27.02\n",
      "Episode 43 \tcost 115(S) \tCurrent Score: 35.59 \tAverage Score: 27.21\n",
      "Episode 44 \tcost 116(S) \tCurrent Score: 36.70 \tAverage Score: 27.43\n",
      "Episode 45 \tcost 116(S) \tCurrent Score: 35.69 \tAverage Score: 27.61\n",
      "Episode 46 \tcost 116(S) \tCurrent Score: 36.12 \tAverage Score: 27.80\n",
      "Episode 47 \tcost 116(S) \tCurrent Score: 36.83 \tAverage Score: 27.99\n",
      "Episode 48 \tcost 114(S) \tCurrent Score: 35.20 \tAverage Score: 28.14\n",
      "Episode 49 \tcost 114(S) \tCurrent Score: 36.16 \tAverage Score: 28.30\n",
      "Episode 50 \tcost 115(S) \tCurrent Score: 36.88 \tAverage Score: 28.48\n",
      "Episode 51 \tcost 114(S) \tCurrent Score: 35.83 \tAverage Score: 28.62\n",
      "Episode 52 \tcost 114(S) \tCurrent Score: 35.78 \tAverage Score: 28.76\n",
      "Episode 53 \tcost 114(S) \tCurrent Score: 36.11 \tAverage Score: 28.90\n",
      "Episode 54 \tcost 115(S) \tCurrent Score: 34.78 \tAverage Score: 29.01\n",
      "Episode 55 \tcost 116(S) \tCurrent Score: 35.02 \tAverage Score: 29.12\n",
      "Episode 56 \tcost 116(S) \tCurrent Score: 35.76 \tAverage Score: 29.23\n",
      "Episode 57 \tcost 116(S) \tCurrent Score: 35.04 \tAverage Score: 29.34\n",
      "Episode 58 \tcost 115(S) \tCurrent Score: 37.63 \tAverage Score: 29.48\n",
      "Episode 59 \tcost 115(S) \tCurrent Score: 37.22 \tAverage Score: 29.61\n",
      "Episode 60 \tcost 115(S) \tCurrent Score: 37.48 \tAverage Score: 29.74\n",
      "Episode 61 \tcost 115(S) \tCurrent Score: 35.30 \tAverage Score: 29.83\n",
      "Episode 62 \tcost 115(S) \tCurrent Score: 36.88 \tAverage Score: 29.95\n",
      "Episode 63 \tcost 114(S) \tCurrent Score: 36.63 \tAverage Score: 30.05\n",
      "Environment solved in 63 episodes with Average Score: 30.05\n",
      "\n",
      "Episode 64 \tcost 114(S) \tCurrent Score: 36.43 \tAverage Score: 30.15\n",
      "Episode 65 \tcost 115(S) \tCurrent Score: 32.81 \tAverage Score: 30.19\n",
      "Episode 66 \tcost 114(S) \tCurrent Score: 33.47 \tAverage Score: 30.24\n",
      "Episode 67 \tcost 114(S) \tCurrent Score: 37.44 \tAverage Score: 30.35\n",
      "Episode 68 \tcost 114(S) \tCurrent Score: 36.92 \tAverage Score: 30.45\n",
      "Episode 69 \tcost 116(S) \tCurrent Score: 37.65 \tAverage Score: 30.55\n",
      "Episode 70 \tcost 115(S) \tCurrent Score: 35.66 \tAverage Score: 30.62\n",
      "Episode 71 \tcost 115(S) \tCurrent Score: 35.17 \tAverage Score: 30.69\n",
      "Episode 72 \tcost 115(S) \tCurrent Score: 36.54 \tAverage Score: 30.77\n",
      "Episode 73 \tcost 114(S) \tCurrent Score: 34.64 \tAverage Score: 30.82\n",
      "Episode 74 \tcost 114(S) \tCurrent Score: 36.20 \tAverage Score: 30.89\n",
      "Episode 75 \tcost 113(S) \tCurrent Score: 33.17 \tAverage Score: 30.93\n",
      "Episode 76 \tcost 113(S) \tCurrent Score: 33.10 \tAverage Score: 30.95\n",
      "Episode 77 \tcost 113(S) \tCurrent Score: 34.51 \tAverage Score: 31.00\n",
      "Episode 78 \tcost 113(S) \tCurrent Score: 38.00 \tAverage Score: 31.09\n",
      "Episode 79 \tcost 113(S) \tCurrent Score: 36.26 \tAverage Score: 31.16\n",
      "Episode 80 \tcost 114(S) \tCurrent Score: 37.50 \tAverage Score: 31.23\n",
      "Episode 81 \tcost 115(S) \tCurrent Score: 36.23 \tAverage Score: 31.30\n",
      "Episode 82 \tcost 115(S) \tCurrent Score: 31.85 \tAverage Score: 31.30\n",
      "Episode 83 \tcost 114(S) \tCurrent Score: 35.35 \tAverage Score: 31.35\n",
      "Episode 84 \tcost 114(S) \tCurrent Score: 37.00 \tAverage Score: 31.42\n",
      "Episode 85 \tcost 115(S) \tCurrent Score: 36.10 \tAverage Score: 31.47\n",
      "Episode 86 \tcost 115(S) \tCurrent Score: 36.75 \tAverage Score: 31.53\n",
      "Episode 87 \tcost 115(S) \tCurrent Score: 35.18 \tAverage Score: 31.58\n",
      "Episode 88 \tcost 114(S) \tCurrent Score: 35.16 \tAverage Score: 31.62\n",
      "Episode 89 \tcost 115(S) \tCurrent Score: 34.59 \tAverage Score: 31.65\n",
      "Episode 90 \tcost 114(S) \tCurrent Score: 36.08 \tAverage Score: 31.70\n",
      "Episode 91 \tcost 115(S) \tCurrent Score: 37.11 \tAverage Score: 31.76\n",
      "Episode 92 \tcost 116(S) \tCurrent Score: 38.40 \tAverage Score: 31.83\n",
      "Episode 93 \tcost 115(S) \tCurrent Score: 38.96 \tAverage Score: 31.91\n",
      "Episode 94 \tcost 116(S) \tCurrent Score: 37.14 \tAverage Score: 31.96\n",
      "Episode 95 \tcost 115(S) \tCurrent Score: 34.71 \tAverage Score: 31.99\n",
      "Episode 96 \tcost 114(S) \tCurrent Score: 36.97 \tAverage Score: 32.04\n",
      "Episode 97 \tcost 115(S) \tCurrent Score: 36.43 \tAverage Score: 32.09\n",
      "Episode 98 \tcost 115(S) \tCurrent Score: 35.58 \tAverage Score: 32.13\n",
      "Episode 99 \tcost 115(S) \tCurrent Score: 36.44 \tAverage Score: 32.17\n",
      "Episode 100 \tcost 115(S) \tCurrent Score: 35.52 \tAverage Score: 32.20\n",
      "Episode 101 \tcost 115(S) \tCurrent Score: 34.39 \tAverage Score: 32.54\n",
      "Episode 102 \tcost 115(S) \tCurrent Score: 35.15 \tAverage Score: 32.88\n",
      "Episode 103 \tcost 114(S) \tCurrent Score: 34.76 \tAverage Score: 33.20\n",
      "Episode 104 \tcost 114(S) \tCurrent Score: 36.98 \tAverage Score: 33.54\n",
      "Episode 105 \tcost 114(S) \tCurrent Score: 35.92 \tAverage Score: 33.83\n",
      "Episode 106 \tcost 114(S) \tCurrent Score: 36.12 \tAverage Score: 34.12\n",
      "Episode 107 \tcost 114(S) \tCurrent Score: 38.28 \tAverage Score: 34.40\n",
      "Episode 108 \tcost 114(S) \tCurrent Score: 36.70 \tAverage Score: 34.65\n",
      "Episode 109 \tcost 115(S) \tCurrent Score: 34.22 \tAverage Score: 34.87\n",
      "Episode 110 \tcost 115(S) \tCurrent Score: 36.04 \tAverage Score: 35.06\n",
      "Finish 110 episodes the problem has been solved at 63 episode \n"
     ]
    },
    {
     "data": {
      "text/plain": [
       "(<matplotlib.figure.Figure at 0x7fccc46c5a90>,\n",
       " <matplotlib.axes._subplots.AxesSubplot at 0x7fccc30fcf60>)"
      ]
     },
     "execution_count": 10,
     "metadata": {},
     "output_type": "execute_result"
    },
    {
     "data": {
      "image/png": "[encoded data removed]",
      "text/plain": [
       "<matplotlib.figure.Figure at 0x7fccc46c5a90>"
      ]
     },
     "metadata": {
      "needs_background": "light"
     },
     "output_type": "display_data"
    }
   ],
   "source": [
    "agent = Agent(state_size = state_size, action_size=action_size, random_seed = 7) \n",
    "all_scores, local_mean_scores = ddpg(agent, n_episodes=120, max_t=1000, required_episode=110)\n",
    "\n",
    "fig, axes = plot_scores(n_episode=len(local_mean_scores), scores=local_mean_scores, color='r')\n",
    "plot_scores(n_episode=len(all_scores), scores=all_scores, color='b', fig=fig, axes=axes)\n"
   ]
  },
  {
   "cell_type": "code",
   "execution_count": 9,
   "metadata": {},
   "outputs": [
    {
     "name": "stdout",
     "output_type": "stream",
     "text": [
      "\n",
      "Episode 1 \tcost 106(S) \tCurrent Score: 0.69 \tAverage Score: 0.69\n",
      "Episode 2 \tcost 107(S) \tCurrent Score: 0.77 \tAverage Score: 0.73\n",
      "Episode 3 \tcost 108(S) \tCurrent Score: 0.91 \tAverage Score: 0.79\n",
      "Episode 4 \tcost 109(S) \tCurrent Score: 0.66 \tAverage Score: 0.76\n",
      "Episode 5 \tcost 110(S) \tCurrent Score: 0.99 \tAverage Score: 0.80\n",
      "Episode 6 \tcost 109(S) \tCurrent Score: 1.21 \tAverage Score: 0.87\n",
      "Episode 7 \tcost 110(S) \tCurrent Score: 1.28 \tAverage Score: 0.93\n",
      "Episode 8 \tcost 110(S) \tCurrent Score: 1.73 \tAverage Score: 1.03\n",
      "Episode 9 \tcost 110(S) \tCurrent Score: 1.65 \tAverage Score: 1.10\n",
      "Episode 10 \tcost 110(S) \tCurrent Score: 1.35 \tAverage Score: 1.12\n",
      "Episode 11 \tcost 110(S) \tCurrent Score: 1.10 \tAverage Score: 1.12\n",
      "Episode 12 \tcost 110(S) \tCurrent Score: 1.11 \tAverage Score: 1.12\n",
      "Episode 13 \tcost 110(S) \tCurrent Score: 1.00 \tAverage Score: 1.11\n",
      "Episode 14 \tcost 109(S) \tCurrent Score: 0.77 \tAverage Score: 1.09\n",
      "Episode 15 \tcost 109(S) \tCurrent Score: 0.71 \tAverage Score: 1.06\n",
      "Episode 16 \tcost 109(S) \tCurrent Score: 0.62 \tAverage Score: 1.03\n",
      "Episode 17 \tcost 109(S) \tCurrent Score: 0.42 \tAverage Score: 1.00\n",
      "Episode 18 \tcost 109(S) \tCurrent Score: 0.22 \tAverage Score: 0.96\n",
      "Episode 19 \tcost 109(S) \tCurrent Score: 0.21 \tAverage Score: 0.92\n",
      "Episode 20 \tcost 109(S) \tCurrent Score: 0.23 \tAverage Score: 0.88\n",
      "Episode 21 \tcost 109(S) \tCurrent Score: 0.32 \tAverage Score: 0.86"
     ]
    },
    {
     "ename": "KeyboardInterrupt",
     "evalue": "",
     "output_type": "error",
     "traceback": [
      "\u001b[0;31m---------------------------------------------------------------------------\u001b[0m",
      "\u001b[0;31mKeyboardInterrupt\u001b[0m                         Traceback (most recent call last)",
      "\u001b[0;32m<ipython-input-9-4bce9daa640c>\u001b[0m in \u001b[0;36m<module>\u001b[0;34m()\u001b[0m\n\u001b[1;32m      1\u001b[0m \u001b[0;34m\u001b[0m\u001b[0m\n\u001b[1;32m      2\u001b[0m \u001b[0magent\u001b[0m \u001b[0;34m=\u001b[0m \u001b[0mAgent\u001b[0m\u001b[0;34m(\u001b[0m\u001b[0mstate_size\u001b[0m \u001b[0;34m=\u001b[0m \u001b[0mstate_size\u001b[0m\u001b[0;34m,\u001b[0m \u001b[0maction_size\u001b[0m\u001b[0;34m=\u001b[0m\u001b[0maction_size\u001b[0m\u001b[0;34m,\u001b[0m \u001b[0mrandom_seed\u001b[0m \u001b[0;34m=\u001b[0m \u001b[0;36m7\u001b[0m\u001b[0;34m)\u001b[0m\u001b[0;34m\u001b[0m\u001b[0m\n\u001b[0;32m----> 3\u001b[0;31m \u001b[0mall_scores\u001b[0m\u001b[0;34m,\u001b[0m \u001b[0mlocal_mean_scores\u001b[0m \u001b[0;34m=\u001b[0m \u001b[0mddpg\u001b[0m\u001b[0;34m(\u001b[0m\u001b[0magent\u001b[0m\u001b[0;34m,\u001b[0m \u001b[0mn_episodes\u001b[0m\u001b[0;34m=\u001b[0m\u001b[0;36m1000\u001b[0m\u001b[0;34m,\u001b[0m \u001b[0mmax_t\u001b[0m\u001b[0;34m=\u001b[0m\u001b[0;36m1000\u001b[0m\u001b[0;34m,\u001b[0m \u001b[0mrequired_episode\u001b[0m\u001b[0;34m=\u001b[0m\u001b[0;36m100\u001b[0m\u001b[0;34m)\u001b[0m\u001b[0;34m\u001b[0m\u001b[0m\n\u001b[0m\u001b[1;32m      4\u001b[0m \u001b[0mfig\u001b[0m\u001b[0;34m,\u001b[0m \u001b[0maxes\u001b[0m \u001b[0;34m=\u001b[0m \u001b[0mplot_scores\u001b[0m\u001b[0;34m(\u001b[0m\u001b[0mn_episode\u001b[0m\u001b[0;34m=\u001b[0m\u001b[0mlen\u001b[0m\u001b[0;34m(\u001b[0m\u001b[0mlocal_mean_scores\u001b[0m\u001b[0;34m)\u001b[0m\u001b[0;34m,\u001b[0m \u001b[0mscores\u001b[0m\u001b[0;34m=\u001b[0m\u001b[0mlocal_mean_scores\u001b[0m\u001b[0;34m,\u001b[0m \u001b[0mcolor\u001b[0m\u001b[0;34m=\u001b[0m\u001b[0;34m'b'\u001b[0m\u001b[0;34m)\u001b[0m\u001b[0;34m\u001b[0m\u001b[0m\n\u001b[1;32m      5\u001b[0m \u001b[0mplot_scores\u001b[0m\u001b[0;34m(\u001b[0m\u001b[0mn_episode\u001b[0m\u001b[0;34m=\u001b[0m\u001b[0mlen\u001b[0m\u001b[0;34m(\u001b[0m\u001b[0mall_scores\u001b[0m\u001b[0;34m)\u001b[0m\u001b[0;34m,\u001b[0m \u001b[0mscores\u001b[0m\u001b[0;34m=\u001b[0m\u001b[0mall_scores\u001b[0m\u001b[0;34m,\u001b[0m \u001b[0mcolor\u001b[0m\u001b[0;34m=\u001b[0m\u001b[0;34m'r'\u001b[0m\u001b[0;34m,\u001b[0m \u001b[0mfig\u001b[0m\u001b[0;34m=\u001b[0m\u001b[0mfig\u001b[0m\u001b[0;34m,\u001b[0m \u001b[0maxes\u001b[0m\u001b[0;34m=\u001b[0m\u001b[0maxes\u001b[0m\u001b[0;34m)\u001b[0m\u001b[0;34m\u001b[0m\u001b[0m\n",
      "\u001b[0;32m<ipython-input-8-86b9292e2a99>\u001b[0m in \u001b[0;36mddpg\u001b[0;34m(agent, n_episodes, max_t, print_every, required_episode)\u001b[0m\n\u001b[1;32m     37\u001b[0m \u001b[0;34m\u001b[0m\u001b[0m\n\u001b[1;32m     38\u001b[0m             \u001b[0;32mfor\u001b[0m \u001b[0mstate\u001b[0m\u001b[0;34m,\u001b[0m \u001b[0maction\u001b[0m\u001b[0;34m,\u001b[0m \u001b[0mreward\u001b[0m\u001b[0;34m,\u001b[0m \u001b[0mnext_state\u001b[0m\u001b[0;34m,\u001b[0m \u001b[0mdone\u001b[0m \u001b[0;32min\u001b[0m \u001b[0mzip\u001b[0m\u001b[0;34m(\u001b[0m\u001b[0mstates\u001b[0m\u001b[0;34m,\u001b[0m \u001b[0mactions\u001b[0m\u001b[0;34m,\u001b[0m \u001b[0mrewards\u001b[0m\u001b[0;34m,\u001b[0m \u001b[0mnext_states\u001b[0m\u001b[0;34m,\u001b[0m \u001b[0mdones\u001b[0m\u001b[0;34m)\u001b[0m\u001b[0;34m:\u001b[0m\u001b[0;34m\u001b[0m\u001b[0m\n\u001b[0;32m---> 39\u001b[0;31m                 \u001b[0magent\u001b[0m\u001b[0;34m.\u001b[0m\u001b[0mstep\u001b[0m\u001b[0;34m(\u001b[0m\u001b[0mstate\u001b[0m\u001b[0;34m,\u001b[0m \u001b[0maction\u001b[0m\u001b[0;34m,\u001b[0m \u001b[0mreward\u001b[0m\u001b[0;34m,\u001b[0m \u001b[0mnext_state\u001b[0m\u001b[0;34m,\u001b[0m \u001b[0mdone\u001b[0m\u001b[0;34m)\u001b[0m\u001b[0;34m\u001b[0m\u001b[0m\n\u001b[0m\u001b[1;32m     40\u001b[0m             \u001b[0mstates\u001b[0m \u001b[0;34m=\u001b[0m \u001b[0mnext_states\u001b[0m\u001b[0;34m\u001b[0m\u001b[0m\n\u001b[1;32m     41\u001b[0m             \u001b[0mscores\u001b[0m \u001b[0;34m+=\u001b[0m \u001b[0mrewards\u001b[0m\u001b[0;34m\u001b[0m\u001b[0m\n",
      "\u001b[0;32m/home/workspace/ddpg_agent.py\u001b[0m in \u001b[0;36mstep\u001b[0;34m(self, state, action, reward, next_state, done)\u001b[0m\n\u001b[1;32m     74\u001b[0m             \u001b[0;32mfor\u001b[0m \u001b[0m_\u001b[0m \u001b[0;32min\u001b[0m \u001b[0mrange\u001b[0m\u001b[0;34m(\u001b[0m\u001b[0mint\u001b[0m\u001b[0;34m(\u001b[0m\u001b[0mLEARN_EVERY_N\u001b[0m\u001b[0;34m/\u001b[0m\u001b[0;36m2\u001b[0m\u001b[0;34m)\u001b[0m\u001b[0;34m)\u001b[0m\u001b[0;34m:\u001b[0m\u001b[0;34m\u001b[0m\u001b[0m\n\u001b[1;32m     75\u001b[0m                 \u001b[0mexperiences\u001b[0m \u001b[0;34m=\u001b[0m \u001b[0mself\u001b[0m\u001b[0;34m.\u001b[0m\u001b[0mmemory\u001b[0m\u001b[0;34m.\u001b[0m\u001b[0msample\u001b[0m\u001b[0;34m(\u001b[0m\u001b[0;34m)\u001b[0m\u001b[0;34m\u001b[0m\u001b[0m\n\u001b[0;32m---> 76\u001b[0;31m                 \u001b[0mself\u001b[0m\u001b[0;34m.\u001b[0m\u001b[0mlearn\u001b[0m\u001b[0;34m(\u001b[0m\u001b[0mexperiences\u001b[0m\u001b[0;34m,\u001b[0m \u001b[0mGAMMA\u001b[0m\u001b[0;34m)\u001b[0m\u001b[0;34m\u001b[0m\u001b[0m\n\u001b[0m\u001b[1;32m     77\u001b[0m \u001b[0;34m\u001b[0m\u001b[0m\n\u001b[1;32m     78\u001b[0m     \u001b[0;32mdef\u001b[0m \u001b[0mact\u001b[0m\u001b[0;34m(\u001b[0m\u001b[0mself\u001b[0m\u001b[0;34m,\u001b[0m \u001b[0mstate\u001b[0m\u001b[0;34m,\u001b[0m \u001b[0madd_noise\u001b[0m\u001b[0;34m=\u001b[0m\u001b[0;32mTrue\u001b[0m\u001b[0;34m)\u001b[0m\u001b[0;34m:\u001b[0m\u001b[0;34m\u001b[0m\u001b[0m\n",
      "\u001b[0;32m/home/workspace/ddpg_agent.py\u001b[0m in \u001b[0;36mlearn\u001b[0;34m(self, experiences, gamma)\u001b[0m\n\u001b[1;32m    114\u001b[0m         \u001b[0;31m# Minimize the loss\u001b[0m\u001b[0;34m\u001b[0m\u001b[0;34m\u001b[0m\u001b[0m\n\u001b[1;32m    115\u001b[0m         \u001b[0mself\u001b[0m\u001b[0;34m.\u001b[0m\u001b[0mcritic_optimizer\u001b[0m\u001b[0;34m.\u001b[0m\u001b[0mzero_grad\u001b[0m\u001b[0;34m(\u001b[0m\u001b[0;34m)\u001b[0m\u001b[0;34m\u001b[0m\u001b[0m\n\u001b[0;32m--> 116\u001b[0;31m         \u001b[0mcritic_loss\u001b[0m\u001b[0;34m.\u001b[0m\u001b[0mbackward\u001b[0m\u001b[0;34m(\u001b[0m\u001b[0;34m)\u001b[0m\u001b[0;34m\u001b[0m\u001b[0m\n\u001b[0m\u001b[1;32m    117\u001b[0m         \u001b[0mtorch\u001b[0m\u001b[0;34m.\u001b[0m\u001b[0mnn\u001b[0m\u001b[0;34m.\u001b[0m\u001b[0mutils\u001b[0m\u001b[0;34m.\u001b[0m\u001b[0mclip_grad_norm_\u001b[0m\u001b[0;34m(\u001b[0m\u001b[0mself\u001b[0m\u001b[0;34m.\u001b[0m\u001b[0mcritic_local\u001b[0m\u001b[0;34m.\u001b[0m\u001b[0mparameters\u001b[0m\u001b[0;34m(\u001b[0m\u001b[0;34m)\u001b[0m\u001b[0;34m,\u001b[0m \u001b[0;36m1\u001b[0m\u001b[0;34m)\u001b[0m \u001b[0;31m# prevent gradient exploration\u001b[0m\u001b[0;34m\u001b[0m\u001b[0m\n\u001b[1;32m    118\u001b[0m         \u001b[0mself\u001b[0m\u001b[0;34m.\u001b[0m\u001b[0mcritic_optimizer\u001b[0m\u001b[0;34m.\u001b[0m\u001b[0mstep\u001b[0m\u001b[0;34m(\u001b[0m\u001b[0;34m)\u001b[0m\u001b[0;34m\u001b[0m\u001b[0m\n",
      "\u001b[0;32m/opt/conda/lib/python3.6/site-packages/torch/tensor.py\u001b[0m in \u001b[0;36mbackward\u001b[0;34m(self, gradient, retain_graph, create_graph)\u001b[0m\n\u001b[1;32m     91\u001b[0m                 \u001b[0mproducts\u001b[0m\u001b[0;34m.\u001b[0m \u001b[0mDefaults\u001b[0m \u001b[0mto\u001b[0m\u001b[0;31m \u001b[0m\u001b[0;31m`\u001b[0m\u001b[0;31m`\u001b[0m\u001b[0;32mFalse\u001b[0m\u001b[0;31m`\u001b[0m\u001b[0;31m`\u001b[0m\u001b[0;34m.\u001b[0m\u001b[0;34m\u001b[0m\u001b[0m\n\u001b[1;32m     92\u001b[0m         \"\"\"\n\u001b[0;32m---> 93\u001b[0;31m         \u001b[0mtorch\u001b[0m\u001b[0;34m.\u001b[0m\u001b[0mautograd\u001b[0m\u001b[0;34m.\u001b[0m\u001b[0mbackward\u001b[0m\u001b[0;34m(\u001b[0m\u001b[0mself\u001b[0m\u001b[0;34m,\u001b[0m \u001b[0mgradient\u001b[0m\u001b[0;34m,\u001b[0m \u001b[0mretain_graph\u001b[0m\u001b[0;34m,\u001b[0m \u001b[0mcreate_graph\u001b[0m\u001b[0;34m)\u001b[0m\u001b[0;34m\u001b[0m\u001b[0m\n\u001b[0m\u001b[1;32m     94\u001b[0m \u001b[0;34m\u001b[0m\u001b[0m\n\u001b[1;32m     95\u001b[0m     \u001b[0;32mdef\u001b[0m \u001b[0mregister_hook\u001b[0m\u001b[0;34m(\u001b[0m\u001b[0mself\u001b[0m\u001b[0;34m,\u001b[0m \u001b[0mhook\u001b[0m\u001b[0;34m)\u001b[0m\u001b[0;34m:\u001b[0m\u001b[0;34m\u001b[0m\u001b[0m\n",
      "\u001b[0;32m/opt/conda/lib/python3.6/site-packages/torch/autograd/__init__.py\u001b[0m in \u001b[0;36mbackward\u001b[0;34m(tensors, grad_tensors, retain_graph, create_graph, grad_variables)\u001b[0m\n\u001b[1;32m     87\u001b[0m     Variable._execution_engine.run_backward(\n\u001b[1;32m     88\u001b[0m         \u001b[0mtensors\u001b[0m\u001b[0;34m,\u001b[0m \u001b[0mgrad_tensors\u001b[0m\u001b[0;34m,\u001b[0m \u001b[0mretain_graph\u001b[0m\u001b[0;34m,\u001b[0m \u001b[0mcreate_graph\u001b[0m\u001b[0;34m,\u001b[0m\u001b[0;34m\u001b[0m\u001b[0m\n\u001b[0;32m---> 89\u001b[0;31m         allow_unreachable=True)  # allow_unreachable flag\n\u001b[0m\u001b[1;32m     90\u001b[0m \u001b[0;34m\u001b[0m\u001b[0m\n\u001b[1;32m     91\u001b[0m \u001b[0;34m\u001b[0m\u001b[0m\n",
      "\u001b[0;31mKeyboardInterrupt\u001b[0m: "
     ]
    }
   ],
   "source": [
    "\n",
    "\n",
    "fig, axes = plot_scores(n_episode=len(local_mean_scores), scores=local_mean_scores, color='b')\n",
    "plot_scores(n_episode=len(all_scores), scores=all_scores, color='r', fig=fig, axes=axes)"
   ]
  },
  {
   "cell_type": "code",
   "execution_count": 14,
   "metadata": {},
   "outputs": [
    {
     "data": {
      "text/plain": [
       "(<matplotlib.figure.Figure at 0x7fe10db7f898>,\n",
       " <matplotlib.axes._subplots.AxesSubplot at 0x7fe0c72aada0>)"
      ]
     },
     "execution_count": 14,
     "metadata": {},
     "output_type": "execute_result"
    },
    {
     "data": {
      "image/png": "[encoded data removed]",
      "text/plain": [
       "<matplotlib.figure.Figure at 0x7fe10db7f898>"
      ]
     },
     "metadata": {
      "needs_background": "light"
     },
     "output_type": "display_data"
    }
   ],
   "source": [
    "fig, axes = plot_scores(n_episode=len(local_mean_scores), scores=local_mean_scores, color='b')\n",
    "plot_scores(n_episode=len(all_mean_scores), scores=all_mean_scores, color='r', fig=fig, axes=axes)"
   ]
  },
  {
   "cell_type": "code",
   "execution_count": null,
   "metadata": {},
   "outputs": [],
   "source": []
  },
  {
   "cell_type": "code",
   "execution_count": null,
   "metadata": {},
   "outputs": [],
   "source": []
  },
  {
   "cell_type": "code",
   "execution_count": null,
   "metadata": {},
   "outputs": [],
   "source": [
    "env.close()"
   ]
  }
 ],
 "metadata": {
  "kernelspec": {
   "display_name": "Python 3",
   "language": "python",
   "name": "python3"
  },
  "language_info": {
   "codemirror_mode": {
    "name": "ipython",
    "version": 3
   },
   "file_extension": ".py",
   "mimetype": "text/x-python",
   "name": "python",
   "nbconvert_exporter": "python",
   "pygments_lexer": "ipython3",
   "version": "3.6.3"
  }
 },
 "nbformat": 4,
 "nbformat_minor": 2
}
