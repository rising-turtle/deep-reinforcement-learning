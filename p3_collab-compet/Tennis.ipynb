{
 "cells": [
  {
   "cell_type": "markdown",
   "metadata": {},
   "source": [
    "# Collaboration and Competition\n",
    "\n",
    "---\n",
    "\n",
    "You are welcome to use this coding environment to train your agent for the project.  Follow the instructions below to get started!\n",
    "\n",
    "### 1. Start the Environment\n",
    "\n",
    "Run the next code cell to install a few packages.  This line will take a few minutes to run!"
   ]
  },
  {
   "cell_type": "code",
   "execution_count": 5,
   "metadata": {},
   "outputs": [],
   "source": [
    "!pip -q install ./python"
   ]
  },
  {
   "cell_type": "markdown",
   "metadata": {},
   "source": [
    "The environment is already saved in the Workspace and can be accessed at the file path provided below. "
   ]
  },
  {
   "cell_type": "markdown",
   "metadata": {},
   "source": [
    "Environments contain **_brains_** which are responsible for deciding the actions of their associated agents. Here we check for the first brain available, and set it as the default brain we will be controlling from Python."
   ]
  },
  {
   "cell_type": "code",
   "execution_count": 6,
   "metadata": {},
   "outputs": [
    {
     "name": "stderr",
     "output_type": "stream",
     "text": [
      "INFO:unityagents:\n",
      "'Academy' started successfully!\n",
      "Unity Academy name: Academy\n",
      "        Number of Brains: 1\n",
      "        Number of External Brains : 1\n",
      "        Lesson number : 0\n",
      "        Reset Parameters :\n",
      "\t\t\n",
      "Unity brain name: TennisBrain\n",
      "        Number of Visual Observations (per agent): 0\n",
      "        Vector Observation space type: continuous\n",
      "        Vector Observation space size (per agent): 8\n",
      "        Number of stacked Vector Observation: 3\n",
      "        Vector Action space type: continuous\n",
      "        Vector Action space size (per agent): 2\n",
      "        Vector Action descriptions: , \n"
     ]
    }
   ],
   "source": [
    "from unityagents import UnityEnvironment\n",
    "import numpy as np\n",
    "\n",
    "env = UnityEnvironment(file_name=\"/data/Tennis_Linux_NoVis/Tennis\")"
   ]
  },
  {
   "cell_type": "code",
   "execution_count": 7,
   "metadata": {},
   "outputs": [],
   "source": [
    "# get the default brain\n",
    "brain_name = env.brain_names[0]\n",
    "brain = env.brains[brain_name]"
   ]
  },
  {
   "cell_type": "markdown",
   "metadata": {},
   "source": [
    "### 2. Examine the State and Action Spaces\n",
    "\n",
    "Run the code cell below to print some information about the environment."
   ]
  },
  {
   "cell_type": "code",
   "execution_count": 8,
   "metadata": {},
   "outputs": [
    {
     "name": "stdout",
     "output_type": "stream",
     "text": [
      "Number of agents: 2\n",
      "Size of each action: 2\n",
      "There are 2 agents. Each observes a state with length: 24\n",
      "The state for the first agent looks like: [ 0.          0.          0.          0.          0.          0.          0.\n",
      "  0.          0.          0.          0.          0.          0.          0.\n",
      "  0.          0.         -6.65278625 -1.5        -0.          0.\n",
      "  6.83172083  6.         -0.          0.        ]\n"
     ]
    }
   ],
   "source": [
    "# reset the environment\n",
    "env_info = env.reset(train_mode=True)[brain_name]\n",
    "\n",
    "# number of agents \n",
    "num_agents = len(env_info.agents)\n",
    "print('Number of agents:', num_agents)\n",
    "\n",
    "# size of each action\n",
    "action_size = brain.vector_action_space_size\n",
    "print('Size of each action:', action_size)\n",
    "\n",
    "# examine the state space \n",
    "states = env_info.vector_observations\n",
    "state_size = states.shape[1]\n",
    "print('There are {} agents. Each observes a state with length: {}'.format(states.shape[0], state_size))\n",
    "print('The state for the first agent looks like:', states[0])"
   ]
  },
  {
   "cell_type": "markdown",
   "metadata": {},
   "source": [
    "### 3. Take Random Actions in the Environment\n",
    "\n",
    "In the next code cell, you will learn how to use the Python API to control the agent and receive feedback from the environment.\n",
    "\n",
    "Note that **in this coding environment, you will not be able to watch the agents while they are training**, and you should set `train_mode=True` to restart the environment."
   ]
  },
  {
   "cell_type": "code",
   "execution_count": 9,
   "metadata": {},
   "outputs": [
    {
     "name": "stdout",
     "output_type": "stream",
     "text": [
      "Total score (averaged over agents) this episode: -0.004999999888241291\n",
      "Total score (averaged over agents) this episode: 0.04500000085681677\n",
      "Total score (averaged over agents) this episode: -0.004999999888241291\n",
      "Total score (averaged over agents) this episode: -0.004999999888241291\n",
      "Total score (averaged over agents) this episode: -0.004999999888241291\n"
     ]
    }
   ],
   "source": [
    "for i in range(5):                                         # play game for 5 episodes\n",
    "    env_info = env.reset(train_mode=False)[brain_name]     # reset the environment    \n",
    "    states = env_info.vector_observations                  # get the current state (for each agent)\n",
    "    scores = np.zeros(num_agents)                          # initialize the score (for each agent)\n",
    "    while True:\n",
    "        actions = np.random.randn(num_agents, action_size) # select an action (for each agent)\n",
    "        actions = np.clip(actions, -1, 1)                  # all actions between -1 and 1\n",
    "        env_info = env.step(actions)[brain_name]           # send all actions to tne environment\n",
    "        next_states = env_info.vector_observations         # get next state (for each agent)\n",
    "        rewards = env_info.rewards                         # get reward (for each agent)\n",
    "        dones = env_info.local_done                        # see if episode finished\n",
    "        scores += env_info.rewards                         # update the score (for each agent)\n",
    "        states = next_states                               # roll over states to next time step\n",
    "        if np.any(dones):                                  # exit loop if episode finished\n",
    "            break\n",
    "    print('Total score (averaged over agents) this episode: {}'.format(np.mean(scores)))"
   ]
  },
  {
   "cell_type": "markdown",
   "metadata": {},
   "source": [
    "When finished, you can close the environment."
   ]
  },
  {
   "cell_type": "code",
   "execution_count": 6,
   "metadata": {},
   "outputs": [],
   "source": [
    "#env.close()"
   ]
  },
  {
   "cell_type": "markdown",
   "metadata": {},
   "source": [
    "### 4. It's Your Turn!\n",
    "\n",
    "Now it's your turn to train your own agent to solve the environment!  A few **important notes**:\n",
    "- When training the environment, set `train_mode=True`, so that the line for resetting the environment looks like the following:\n",
    "```python\n",
    "env_info = env.reset(train_mode=True)[brain_name]\n",
    "```\n",
    "- To structure your work, you're welcome to work directly in this Jupyter notebook, or you might like to start over with a new file!  You can see the list of files in the workspace by clicking on **_Jupyter_** in the top left corner of the notebook.\n",
    "- In this coding environment, you will not be able to watch the agents while they are training.  However, **_after training the agents_**, you can download the saved model weights to watch the agents on your own machine! "
   ]
  },
  {
   "cell_type": "code",
   "execution_count": 10,
   "metadata": {},
   "outputs": [],
   "source": [
    "\n",
    "import random \n",
    "import torch \n",
    "\n",
    "import requests\n",
    "import time\n",
    "\n",
    "import matplotlib.pyplot as plt\n",
    "%matplotlib inline\n",
    "\n",
    "from maddpg_agent import Agent, OUNoise\n",
    "from unityagents import UnityEnvironment \n",
    "from collections import deque\n",
    "\n",
    "\n",
    "# a helper to plot a training scores\n",
    "def plot_scores( n_episode ,scores, \n",
    "                color = 'b', \n",
    "                title = '', \n",
    "                linestyle = '-',\n",
    "                xlabel='Episode',\n",
    "                ylabel='Score',\n",
    "                fig = None, \n",
    "                axes = None, \n",
    "                showRequirement = True ) :\n",
    "    # iteration indices (recall, smoothed start at step 100)\n",
    "    x = range(1, n_episode+1) #scores[0]\n",
    "    y = scores\n",
    "    \n",
    "    if fig is None or axes is None :\n",
    "        fig, axes = plt.subplots()\n",
    "    \n",
    "    axes.grid( True )\n",
    "    axes.plot( x, y, color = color, linestyle = linestyle )\n",
    "    axes.set_title( title )\n",
    "    \n",
    "    # if scores plot, then plot the requirement\n",
    "    if showRequirement :\n",
    "        axes.axhline( 30., linestyle = '--' )\n",
    "    \n",
    "    axes.set_xlabel( xlabel )\n",
    "    axes.set_ylabel( ylabel )\n",
    "    \n",
    "    return fig, axes"
   ]
  },
  {
   "cell_type": "code",
   "execution_count": 11,
   "metadata": {},
   "outputs": [],
   "source": [
    "\n",
    "device = torch.device(\"cuda:0\" if torch.cuda.is_available() else \"cpu\")\n",
    "\n",
    "# DDPG function \n",
    "def maddpg(agent, n_episodes=1000, max_t=300, print_every=100, required_episode=110):\n",
    "    scores_all = []\n",
    "    scores_local = deque(maxlen=100)\n",
    "    moving_average_scores = []\n",
    "    \n",
    "    old_time = time.time()\n",
    "    response = requests.request(\"GET\", \n",
    "                            \"http://metadata.google.internal/computeMetadata/v1/instance/attributes/keep_alive_token\", \n",
    "                            headers={\"Metadata-Flavor\":\"Google\"})\n",
    "    solved_at = -1 \n",
    "    for i_episode in range(1, n_episodes+1):\n",
    "        \n",
    "        if time.time() - old_time > 60:\n",
    "            old_time = time.time()\n",
    "            requests.request(\"POST\", \n",
    "                             \"https://nebula.udacity.com/api/v1/remote/keep-alive\", \n",
    "                             headers={'Authorization': \"STAR \" + response.text})\n",
    "            \n",
    "        env_info = env.reset(train_mode=True)[brain_name] # reset environment \n",
    "        states = env_info.vector_observations   \n",
    "        agent.reset()\n",
    "        scores = np.zeros(num_agents)  \n",
    "        start_time = time.time()\n",
    "        for t in range(max_t):\n",
    "            action_0 = agent.act(states[0])\n",
    "            action_1 = agent.act(states[1])\n",
    "            actions = np.concatenate((action_0, action_1), axis=0)\n",
    "            actions = np.clip(actions, -1, 1)\n",
    "            env_info = env.step(actions)[brain_name]\n",
    "            next_states = env_info.vector_observations \n",
    "            rewards = env_info.rewards\n",
    "            dones = env_info.local_done\n",
    "            agent.step(states, actions, rewards, next_states, dones)\n",
    "            \n",
    "            states = next_states\n",
    "            scores += rewards\n",
    "            if np.any(env_info.local_done):\n",
    "                break\n",
    "            \n",
    "            #agent.step(state, action, reward, next_state, done)\n",
    "            #state = next_state\n",
    "            #score += reward\n",
    "            #if done:\n",
    "            #    break \n",
    "        time_cost = time.time() - start_time\n",
    "        best_score = np.max(scores) \n",
    "        \n",
    "        scores_all.append(best_score)\n",
    "        scores_local.append(best_score)\n",
    "        moving_average_scores.append(np.mean(scores_local))\n",
    "        \n",
    "        if i_episode % print_every == 0:   \n",
    "            print('\\n\\rEpisode {} \\tcost {:.4f}(S) \\tCurrent Score: {:.4f} \\tAverage Score: {:.4f}'.format(i_episode, (time_cost), scores_all[-1], moving_average_scores[-1]), end=\"\")\n",
    "            torch.save(agent.actor_local.state_dict(), 'checkpoint_actor.pth')\n",
    "            torch.save(agent.critic_local.state_dict(), 'checkpoint_critic.pth')\n",
    "            if moving_average_scores[-1] > 0.5:\n",
    "                if solved_at < 0:\n",
    "                    print('\\n\\rEnvironment solved in {} episodes with Average Score: {:.2f}'.format(i_episode, moving_average_scores[-1]))\n",
    "                    solved_at = i_episode\n",
    "        if i_episode >= required_episode:\n",
    "            if solved_at > 0:\n",
    "                print('\\n\\rFinish {} episodes the problem has been solved at {} episode '.format(required_episode ,solved_at))\n",
    "                break\n",
    "            # else:\n",
    "                # print('\\n\\rFinish {} episodes the problem has not been solved !'.format(required_episode))\n",
    "    return scores_all, moving_average_scores"
   ]
  },
  {
   "cell_type": "code",
   "execution_count": 12,
   "metadata": {},
   "outputs": [
    {
     "name": "stdout",
     "output_type": "stream",
     "text": [
      "\n",
      "Episode 100 \tcost 0.2088(S) \tCurrent Score: 0.0000 \tAverage Score: 0.0000\n",
      "Episode 200 \tcost 0.7359(S) \tCurrent Score: 0.1000 \tAverage Score: 0.0028\n",
      "Episode 300 \tcost 0.2097(S) \tCurrent Score: 0.0000 \tAverage Score: 0.0000\n",
      "Episode 400 \tcost 0.2219(S) \tCurrent Score: 0.0000 \tAverage Score: 0.0137\n",
      "Episode 500 \tcost 0.2174(S) \tCurrent Score: 0.0000 \tAverage Score: 0.0020\n",
      "Episode 600 \tcost 0.2147(S) \tCurrent Score: 0.0000 \tAverage Score: 0.0000\n",
      "Episode 700 \tcost 0.2105(S) \tCurrent Score: 0.0000 \tAverage Score: 0.0010\n",
      "Episode 800 \tcost 0.4615(S) \tCurrent Score: 0.1000 \tAverage Score: 0.0280\n",
      "Episode 900 \tcost 0.4635(S) \tCurrent Score: 0.0900 \tAverage Score: 0.0992\n",
      "Episode 1000 \tcost 0.4499(S) \tCurrent Score: 0.0900 \tAverage Score: 0.0946\n",
      "Episode 1100 \tcost 0.4956(S) \tCurrent Score: 0.1000 \tAverage Score: 0.2210\n",
      "Episode 1200 \tcost 1.1264(S) \tCurrent Score: 0.2000 \tAverage Score: 0.0697\n",
      "Episode 1300 \tcost 15.3481(S) \tCurrent Score: 2.6000 \tAverage Score: 1.1126\n",
      "Environment solved in 1300 episodes with Average Score: 1.11\n",
      "\n",
      "Finish 1000 episodes the problem has been solved at 1300 episode \n"
     ]
    },
    {
     "data": {
      "text/plain": [
       "(<matplotlib.figure.Figure at 0x7fafdaee05c0>,\n",
       " <matplotlib.axes._subplots.AxesSubplot at 0x7fafdaecf198>)"
      ]
     },
     "execution_count": 12,
     "metadata": {},
     "output_type": "execute_result"
    },
    {
     "data": {
      "image/png": "[encoded data removed]",
      "text/plain": [
       "<matplotlib.figure.Figure at 0x7fafdaee05c0>"
      ]
     },
     "metadata": {
      "needs_background": "light"
     },
     "output_type": "display_data"
    }
   ],
   "source": [
    "\n",
    "# Instantiate a Multi Agent\n",
    "agent = Agent(state_size=state_size, action_size=action_size, num_agents=num_agents, random_seed=3)\n",
    "\n",
    "all_scores, local_mean_scores = maddpg(agent, n_episodes=2400, max_t=1000, required_episode=1000)\n",
    "fig, axes = plot_scores(n_episode=len(local_mean_scores), scores=local_mean_scores, color='r')\n",
    "plot_scores(n_episode=len(all_scores), scores=all_scores, color='b', fig=fig, axes=axes)"
   ]
  },
  {
   "cell_type": "code",
   "execution_count": null,
   "metadata": {},
   "outputs": [],
   "source": [
    "agent = Agent(state_size=state_size, action_size=action_size, num_agents=num_agents, random_seed=7)\n",
    "\n",
    "agent.actor_local.load_state_dict(torch.load('checkpoint_actor.pth'))\n",
    "agent.critic_local.load_state_dict(torch.load('checkpoint_critic.pth'))\n",
    "env_info = env.reset(train_mode=False)[brain_name]\n",
    "states = env_info.vector_observations\n",
    "scores = np.zeros(num_agents)\n",
    "\n",
    "while True:\n",
    "    action_0 = agent.act(states[0])\n",
    "    action_1 = agent.act(states[1])\n",
    "    actions = np.concatenate((action_0, action_1), axis=0)\n",
    "    actions = np.clip(action, -1, 1)\n",
    "    env_info = env.step(actions)[brain_name]\n",
    "    next_states = env_info.vector_observations \n",
    "    rewards = env_info.rewards \n",
    "    dones = env_info.local_done\n",
    "    scores += rewards \n",
    "    states = next_states \n",
    "    if np.any(dones):\n",
    "        break\n",
    "\n",
    "print('avering scores: {}'.format(np.mean(scores)))\n",
    "\n",
    "    "
   ]
  },
  {
   "cell_type": "code",
   "execution_count": null,
   "metadata": {},
   "outputs": [],
   "source": [
    "env.close()"
   ]
  }
 ],
 "metadata": {
  "kernelspec": {
   "display_name": "Python 3",
   "language": "python",
   "name": "python3"
  },
  "language_info": {
   "codemirror_mode": {
    "name": "ipython",
    "version": 3
   },
   "file_extension": ".py",
   "mimetype": "text/x-python",
   "name": "python",
   "nbconvert_exporter": "python",
   "pygments_lexer": "ipython3",
   "version": "3.6.3"
  }
 },
 "nbformat": 4,
 "nbformat_minor": 2
}
